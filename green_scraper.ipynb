{
 "cells": [
  {
   "cell_type": "code",
   "execution_count": 1,
   "metadata": {},
   "outputs": [],
   "source": [
    "from bs4 import BeautifulSoup\n",
    "import urllib\n",
    "import re "
   ]
  },
  {
   "cell_type": "code",
   "execution_count": 2,
   "metadata": {},
   "outputs": [],
   "source": [
    "def search(query):\n",
    "    address = \"http://www.bing.com/search?q=%s\" % (urllib.parse.quote_plus(query))\n",
    "\n",
    "    getRequest = urllib.request.Request(address, None, {'User-Agent':'Mozilla/5.0 (Windows NT 10.0; Win64; x64; rv:54.0) Gecko/20100101 Firefox/54.0'})\n",
    "\n",
    "    urlfile = urllib.request.urlopen(getRequest)\n",
    "    htmlResult = urlfile.read(20000000)\n",
    "    urlfile.close()\n",
    "\n",
    "    soup = BeautifulSoup(htmlResult)\n",
    "\n",
    "    [s.extract() for s in soup('span')]\n",
    "    unwantedTags = ['strong', 'cite']\n",
    "    \n",
    "    for tag in unwantedTags:\n",
    "        for match in soup.findAll(tag):\n",
    "            match.replaceWithChildren()\n",
    "\n",
    "    results = soup.findAll('li', { \"class\" : \"b_algo\" })\n",
    "\n",
    "    return results"
   ]
  },
  {
   "cell_type": "code",
   "execution_count": 3,
   "metadata": {},
   "outputs": [],
   "source": [
    "response = {}"
   ]
  },
  {
   "cell_type": "code",
   "execution_count": 4,
   "metadata": {},
   "outputs": [],
   "source": [
    "def get_item_info(item):\n",
    "    links = search(\"green alternatives to \"+item)\n",
    "    titles = []\n",
    "    urls = []\n",
    "    for link in links :\n",
    "        urls.append(str(link.find('h2').find('a')['href']).replace(\" \", \" \"))\n",
    "        titles.append(str(link.find('h2').text).replace(\" \", \" \"))\n",
    "    ts =[]\n",
    "    us =[]\n",
    "    i = 0\n",
    "    for t in titles:\n",
    "        if any(char.isdigit() for char in t):\n",
    "            ts.append(t)\n",
    "            us.append(urls[i])\n",
    "        i=i+1\n",
    "    return ts, us"
   ]
  },
  {
   "cell_type": "code",
   "execution_count": 5,
   "metadata": {},
   "outputs": [],
   "source": [
    "def isrelevant(title, item):\n",
    "    b = False\n",
    "    greenwords = ['green', 'eco-friendly', 'sustainable']\n",
    "    for g in greenwords:\n",
    "        if g in str.lower(title):\n",
    "            b = True\n",
    "    i = \"\"\n",
    "    \n",
    "    '''\n",
    "    if item[len(item)-1] =='s':\n",
    "        i =item[:len(item)-1]\n",
    "    if i in str.lower(title):\n",
    "        if b:\n",
    "            return True\n",
    "    return False\n",
    "    '''\n",
    "    return b\n",
    "  \n",
    "def get_relevants(titles, urls, item):\n",
    "    ind = 0\n",
    "    us = []\n",
    "    ts = []\n",
    "    for t in titles:\n",
    "        if isrelevant(t, item):\n",
    "            us.append(urls[ind])\n",
    "            ts.append(titles[ind])\n",
    "        ind = ind + 1\n",
    "    return ts, us"
   ]
  },
  {
   "cell_type": "code",
   "execution_count": 6,
   "metadata": {},
   "outputs": [],
   "source": [
    "t, u = get_item_info(\"shoes\")\n",
    "titles, urls = get_relevants(t, u, \"shoes\")"
   ]
  },
  {
   "cell_type": "code",
   "execution_count": 7,
   "metadata": {},
   "outputs": [
    {
     "data": {
      "text/plain": [
       "['3 Natural Alternatives to Leather Shoes | Greener Ideal',\n",
       " '30 eco-friendly alternatives for things you use every day',\n",
       " '7 Sustainable Alternatives to ... - Green Wedding Shoes',\n",
       " '5 Sustainable Brands That Make Cool Eco-Friendly Runners ...',\n",
       " '6 Eco-Friendly Leather Alternatives for the Cruelty Free ...']"
      ]
     },
     "execution_count": 7,
     "metadata": {},
     "output_type": "execute_result"
    }
   ],
   "source": [
    "titles"
   ]
  },
  {
   "cell_type": "code",
   "execution_count": 8,
   "metadata": {},
   "outputs": [],
   "source": [
    "def get_items_from_urls(urls):\n",
    "    items = []\n",
    "    for u in urls:\n",
    "        getRequest = urllib.request.Request(u, None, {'User-Agent':'Mozilla/5.0 (Windows NT 10.0; Win64; x64; rv:54.0) Gecko/20100101 Firefox/54.0'})\n",
    "\n",
    "        urlfile = urllib.request.urlopen(getRequest)\n",
    "        htmlResult = urlfile.read(2000000)\n",
    "        urlfile.close()\n",
    "\n",
    "        soup = BeautifulSoup(htmlResult)\n",
    "        for h in soup.findAll('h2'):\n",
    "            b = True\n",
    "            elem = h\n",
    "            while(b):\n",
    "                temp = elem.findChild()\n",
    "                if(temp==None):\n",
    "                    b= False\n",
    "                else:\n",
    "                    elem = temp\n",
    "                    \n",
    "            if len(elem.text)<50:\n",
    "                items.append(elem.text)\n",
    "    return items"
   ]
  },
  {
   "cell_type": "code",
   "execution_count": 9,
   "metadata": {},
   "outputs": [],
   "source": [
    "its = get_items_from_urls(urls)"
   ]
  },
  {
   "cell_type": "code",
   "execution_count": 18,
   "metadata": {},
   "outputs": [],
   "source": [
    "def filter_items(items):\n",
    "    ites = []\n",
    "    b = True\n",
    "    keywords = ['more', 'support', 'about']\n",
    "    for i in items:\n",
    "        if '.' in i:\n",
    "            \"\"\n",
    "        else:\n",
    "            for k in keywords:\n",
    "                if k in str.lower(i):\n",
    "                    b = False\n",
    "            if b:\n",
    "                ites.append(i)\n",
    "            \n",
    "    return ites"
   ]
  },
  {
   "cell_type": "code",
   "execution_count": 23,
   "metadata": {},
   "outputs": [],
   "source": [
    "f = filter_items(its)"
   ]
  },
  {
   "cell_type": "code",
   "execution_count": 21,
   "metadata": {},
   "outputs": [],
   "source": [
    "def get_web_urls(item, name):\n",
    "    links = search(\"Buy eco-friendly \"+item+\" \"+name)\n",
    "    titles = []\n",
    "    urls = []\n",
    "    for link in links :\n",
    "        urls.append(str(link.find('h2').find('a')['href']).replace(\" \", \" \"))\n",
    "        titles.append(str(link.find('h2').text).replace(\" \", \" \"))\n",
    "    \n",
    "    return titles, urls"
   ]
  },
  {
   "cell_type": "code",
   "execution_count": 38,
   "metadata": {},
   "outputs": [],
   "source": [
    "t, u = get_search_results(f[0], 'shoes')\n"
   ]
  },
  {
   "cell_type": "code",
   "execution_count": 50,
   "metadata": {},
   "outputs": [],
   "source": [
    "links = shop(\"Buy eco-friendly \"+\"shoes\")"
   ]
  },
  {
   "cell_type": "code",
   "execution_count": 49,
   "metadata": {},
   "outputs": [],
   "source": [
    "def shop(query):\n",
    "    address = \"http://www.bing.com/shop?q=%s\" % (urllib.parse.quote_plus(query))\n",
    "\n",
    "    getRequest = urllib.request.Request(address, None, {'User-Agent':'Mozilla/5.0 (Windows NT 10.0; Win64; x64; rv:54.0) Gecko/20100101 Firefox/54.0'})\n",
    "\n",
    "    urlfile = urllib.request.urlopen(getRequest)\n",
    "    htmlResult = urlfile.read(20000000)\n",
    "    urlfile.close()\n",
    "\n",
    "    soup = BeautifulSoup(htmlResult)\n",
    "\n",
    "    results = soup.findAll('div', class_='br-wholeCardClickable br-card br-small br-ocCiteHvrItm')\n",
    "\n",
    "    return results"
   ]
  },
  {
   "cell_type": "code",
   "execution_count": 55,
   "metadata": {},
   "outputs": [
    {
     "data": {
      "text/plain": [
       "<div class=\"br-wholeCardClickable br-card br-small br-ocCiteHvrItm\"><a class=\"br-voidlink\" h=\"ID=commerce,5777.1\" href=\"javascript:void(0)\"><div class=\"cico br-pdMainImg\" style=\"width:256px;height:256px;\"><div class=\"rms_iac\" data-alt=\"Product Image\" data-class=\"rms_img\" data-height=\"256\" data-src=\"/th?id=OP.rpH1cuPZGSFTMg474C474&amp;w=256&amp;h=256&amp;o=5&amp;pid=21.1\" data-width=\"256\" style=\"height:256px;line-height:256px;width:256px;\"></div></div></a><div class=\"br-pdInfo\"><div class=\"pd-price br-standardPrice promoted\">$50.00</div><div class=\"br-vhSlot2\" data-priority=\"2\">Free shipping</div><div class=\"br-sellerBlock\"><span><span class=\"br-sellersCite\" tabindex=\"0\">Sanuk</span><span class=\"br-sellers\"><a class=\"br-adClickOut\" h=\"ID=commerce,5232.1\" href=\"https://www.bing.com/aclick?ld=e8l6H5pkcqXjl0nF8nERTx2jVUCUx6cNGQNgX9ggW2UHX23R75LPSevVBI45oYfPhuckOgQHzqJt-_dxoqhQocfJd8tf4XZbrGdVRo-zKsgu5Lt1So85dqD6FTTSj27bNwiMKyHfa-_K9CdmL5QGZ1EGMqxAw&amp;u=aHR0cCUzYSUyZiUyZmNsaWNrc2VydmUuZGFydHNlYXJjaC5uZXQlMmZsaW5rJTJmY2xpY2slM2ZsaWQlM2Q5MjcwMDA0Njg4NDQyMTEwNiUyNmRzX3Nfa3dnaWQlM2Q1ODcwMDAwMzg5NzQ2NjU0OSUyNmRzX3NfaW52ZW50b3J5X2ZlZWRfaWQlM2Q5NzcwMDAwMDAwMjUyNTgwNCUyNiUyNmRzX2VfYWRpZCUzZDc2NzU5NzAxMTk4MzkwJTI2ZHNfZV90YXJnZXRfaWQlM2RwbGEtNDU4MDM1OTI4OTUxMDA3NSUyNmRzX2VfcHJvZHVjdF9ncm91cF9pZCUzZDQ1ODAzNTkyODk1MTAwNzUlMjZkc19lX3Byb2R1Y3RfaWQlM2QxMDE1OTI2LU5BVC0wOSUyNmRzX2VfcHJvZHVjdF9jb3VudHJ5JTNkVVMlMjZkc19lX3Byb2R1Y3RfbGFuZ3VhZ2UlM2RFTiUyNmRzX2VfcHJvZHVjdF9jaGFubmVsJTNkT25saW5lJTI2ZHNfdXJsX3YlM2QyJTI2ZHNfZGVzdF91cmwlM2RodHRwcyUzYSUyZiUyZnd3dy5zYW51ay5jb20lMmZzJTJmU0FOVUstVVMlMmZtZW5zLXNpZGV3YWxrLXN1cmZlcnMlMmZ2YWdhYm9uZGVkJTJmMTkwMTA4MTE1MDYyLmh0bWwlM2Zzb3VyY2UlM2RzaG9wcGluZ3NpdGVfUExBXzE5MDEwODExNTA2MiUyNmtwaWQlM2QxMDE1OTI2LU5BVC0wOSUyNnV0bV9zb3VyY2UlM2RiaW5nJTI2dXRtX21lZGl1bSUzZHBsYSUyNm1zY2xraWQlM2Q3NDY4MTQzZTA2YTQxMDdlY2I4NTRhOWZkMjVmMGU4MA&amp;rlid=7468143e06a4107ecb854a9fd25f0e80\" onclick=\"sj_sp(event)\" target=\"_blank\">Sanuk<span class=\"br-icnGlyphClick\"><svg height=\"16px\" version=\"1.1\" viewbox=\"0 0 16 16\" width=\"16px\" x=\"0px\" xmlns=\"http://www.w3.org/2000/svg\" xmlns:xlink=\"http://www.w3.org/1999/xlink\" y=\"0px\"><g class=\"br-gCogi\" clip-rule=\"evenodd\" fill-rule=\"evenodd\"><path d=\"M12.8,2.1H16v3.2h-1.1V4l-3.8,3.8L10.4,7l3.8-3.8h-1.4V2.1z M12.8,8.5l1.1-1.1v6.4H0V4.3h10.7L9.6,5.3H1.1v7.5 h11.7V8.5z\"></path></g></svg></span></a></span></span></div><div class=\"br-multiSellers br-standardText demoted\">Explore more options</div><a class=\"br-voidlink\" h=\"ID=commerce,5778.1\" href=\"javascript:void(0)\"><div aria-expanded=\"false\" class=\"br-pdItemName\" role=\"button\" tabindex=\"0\"><span title=\"Sanuk Men's Vagabonded Sidewalk Surfers Eco-Friendly Vegan Slip-On Shoes In Tan, Size 9\">Sanuk Men's Vagabonded Sidewal…</span></div></a></div></div>"
      ]
     },
     "execution_count": 55,
     "metadata": {},
     "output_type": "execute_result"
    }
   ],
   "source": [
    "links[10]"
   ]
  },
  {
   "cell_type": "code",
   "execution_count": 81,
   "metadata": {},
   "outputs": [],
   "source": [
    "def get_shop_data(links):\n",
    "    shopdata = []\n",
    "    for l in links:\n",
    "        data = {}\n",
    "        try:\n",
    "            data['image']='https://www.bing.com/'+l.findAll('img')[0]['src']\n",
    "            data['seller'] = l.findAll('span', class_='br-sellersCite')[0].text\n",
    "            data['price'] = l.findAll('div', class_='pd-price br-standardPrice promoted')[0].text\n",
    "            data['item'] = l.findAll('span')[-1]['title']\n",
    "            data['url'] = l.findAll('a', class_='br-adClickOut')[0]['href']\n",
    "\n",
    "            shopdata.append(data)\n",
    "        except:\n",
    "            print('DIDNT WORK')\n",
    "            break\n",
    "    return shopdata\n",
    "    "
   ]
  },
  {
   "cell_type": "code",
   "execution_count": 82,
   "metadata": {},
   "outputs": [
    {
     "name": "stdout",
     "output_type": "stream",
     "text": [
      "DIDNT WORK\n"
     ]
    },
    {
     "data": {
      "text/plain": [
       "[{'image': 'https://www.bing.com//th?id=OP.d%2fjXkHQMzqlbxw474C474&w=256&h=256&o=5&pid=21.1',\n",
       "  'seller': 'Sanuk',\n",
       "  'price': '$50.00',\n",
       "  'item': \"Sanuk Men's Vagabonded Sidewalk Surfers Eco-Friendly Vegan Slip-On Shoes In Black, Size 13\",\n",
       "  'url': 'https://www.bing.com/aclick?ld=e8Tcx4W6__a2WQeh5Av3StwjVUCUwQ4c8l6tGrHKNIxdxoNNWlLfOjKTQz5eB_bgF1K5O8RPDlLI6GlOs9Jqi9mvj4iSeehtq7FNZJV4dFPnlDDC51t9rg7QEsfS2PRF6PZIgSGCNOd0nJuv4q2LG-XBKih3o&u=aHR0cCUzYSUyZiUyZmNsaWNrc2VydmUuZGFydHNlYXJjaC5uZXQlMmZsaW5rJTJmY2xpY2slM2ZsaWQlM2Q5MjcwMDA0Njg4NDQyMTEwNiUyNmRzX3Nfa3dnaWQlM2Q1ODcwMDAwMzg5NzQ2NjU0OSUyNmRzX3NfaW52ZW50b3J5X2ZlZWRfaWQlM2Q5NzcwMDAwMDAwMjUyNTgwNCUyNiUyNmRzX2VfYWRpZCUzZDc2NzU5NzAxMTk4MzkwJTI2ZHNfZV90YXJnZXRfaWQlM2RwbGEtNDU4MDM1OTI4OTUxMDA3NSUyNmRzX2VfcHJvZHVjdF9ncm91cF9pZCUzZDQ1ODAzNTkyODk1MTAwNzUlMjZkc19lX3Byb2R1Y3RfaWQlM2QxMDE1OTI2LURLQi0xMyUyNmRzX2VfcHJvZHVjdF9jb3VudHJ5JTNkVVMlMjZkc19lX3Byb2R1Y3RfbGFuZ3VhZ2UlM2RFTiUyNmRzX2VfcHJvZHVjdF9jaGFubmVsJTNkT25saW5lJTI2ZHNfdXJsX3YlM2QyJTI2ZHNfZGVzdF91cmwlM2RodHRwcyUzYSUyZiUyZnd3dy5zYW51ay5jb20lMmZzJTJmU0FOVUstVVMlMmZtZW5zLXNpZGV3YWxrLXN1cmZlcnMlMmZ2YWdhYm9uZGVkJTJmMTkyNDEwMDQwODI3Lmh0bWwlM2Zzb3VyY2UlM2RzaG9wcGluZ3NpdGVfUExBXzE5MjQxMDA0MDgyNyUyNmtwaWQlM2QxMDE1OTI2LURLQi0xMyUyNnV0bV9zb3VyY2UlM2RiaW5nJTI2dXRtX21lZGl1bSUzZHBsYSUyNm1zY2xraWQlM2Q5MGI1NWU5ZWEyYmQxYzE2MmYxYTAwM2Y3NjQ2NTE0ZA&rlid=90b55e9ea2bd1c162f1a003f7646514d'},\n",
       " {'image': 'https://www.bing.com//th?id=OP.45nNsCSjAWuznw474C474&w=256&h=256&o=5&pid=21.1',\n",
       "  'seller': 'Sanuk',\n",
       "  'price': '$50.00',\n",
       "  'item': \"Sanuk Men's Vagabonded Sidewalk Surfers Eco-Friendly Vegan Slip-On Shoes In Green, Size 9\",\n",
       "  'url': 'https://www.bing.com/aclick?ld=e8AGi-45qqKkaMcNn9KeMo2jVUCUw3ooVOOVq--UI6Qs8l3LSUcDUTgx_nbKPZWvYQH6DMaeIGu03aj2xGG2o0HnCvYqhVOjeVMdl0rOPMs8buMHaQPkwiKyfiZFfD4UApmJn-m9_m5zUps1ssdpLxQUogV4c&u=aHR0cCUzYSUyZiUyZmNsaWNrc2VydmUuZGFydHNlYXJjaC5uZXQlMmZsaW5rJTJmY2xpY2slM2ZsaWQlM2Q5MjcwMDA0Njg4NDQyMTEwNiUyNmRzX3Nfa3dnaWQlM2Q1ODcwMDAwMzg5NzQ2NjU0OSUyNmRzX3NfaW52ZW50b3J5X2ZlZWRfaWQlM2Q5NzcwMDAwMDAwMjUyNTgwNCUyNiUyNmRzX2VfYWRpZCUzZDc2NzU5NzAxMTk4MzkwJTI2ZHNfZV90YXJnZXRfaWQlM2RwbGEtNDU4MDM1OTI4OTUxMDA3NSUyNmRzX2VfcHJvZHVjdF9ncm91cF9pZCUzZDQ1ODAzNTkyODk1MTAwNzUlMjZkc19lX3Byb2R1Y3RfaWQlM2QxMDE1OTI2LU1JT0wtMDklMjZkc19lX3Byb2R1Y3RfY291bnRyeSUzZFVTJTI2ZHNfZV9wcm9kdWN0X2xhbmd1YWdlJTNkRU4lMjZkc19lX3Byb2R1Y3RfY2hhbm5lbCUzZE9ubGluZSUyNmRzX3VybF92JTNkMiUyNmRzX2Rlc3RfdXJsJTNkaHR0cHMlM2ElMmYlMmZ3d3cuc2FudWsuY29tJTJmcyUyZlNBTlVLLVVTJTJmbWVucy1zaWRld2Fsay1zdXJmZXJzJTJmdmFnYWJvbmRlZCUyZjE5MjQxMDA2NDU1Ny5odG1sJTNmc291cmNlJTNkc2hvcHBpbmdzaXRlX1BMQV8xOTI0MTAwNjQ1NTclMjZrcGlkJTNkMTAxNTkyNi1NSU9MLTA5JTI2dXRtX3NvdXJjZSUzZGJpbmclMjZ1dG1fbWVkaXVtJTNkcGxhJTI2bXNjbGtpZCUzZDNmOTcwYTMxNzAwMDE2YmFiOWRjNTQ5MGE0ZmJkYzAw&rlid=3f970a31700016bab9dc5490a4fbdc00'},\n",
       " {'image': 'https://www.bing.com//th?id=OP.5YAvFNg%2fTaf5BQ474C474&w=256&h=256&o=5&pid=21.1',\n",
       "  'seller': 'Sanuk',\n",
       "  'price': '$29.99',\n",
       "  'item': \"Sanuk Women's Pair O Dice Eco-Friendly Vegan Shoe In Orange, Size 6\",\n",
       "  'url': 'https://www.bing.com/aclick?ld=e8i-J3Mux5AgmbGNCTCTqIEjVUCUxONuEjb-1mAyYcdPYzJSxC_2h9SGby8UlhGkKCo6G1h1xd7QyhxTXXjTZQNizVZQnP_lWiRqaa1kbjvVEG2VvchuhDmvV0-v2bWV-R_2pTFcaEPRTuZxrRvRQ5qZPDLx0&u=aHR0cCUzYSUyZiUyZmNsaWNrc2VydmUuZGFydHNlYXJjaC5uZXQlMmZsaW5rJTJmY2xpY2slM2ZsaWQlM2Q5MjcwMDA0Njg4NDQyMTEwNiUyNmRzX3Nfa3dnaWQlM2Q1ODcwMDAwMzg5NzQ2NjU0OSUyNmRzX3NfaW52ZW50b3J5X2ZlZWRfaWQlM2Q5NzcwMDAwMDAwMjUyNTgwNCUyNiUyNmRzX2VfYWRpZCUzZDc2NzU5NzAxMTk4MzkwJTI2ZHNfZV90YXJnZXRfaWQlM2RwbGEtNDU4MDM1OTI4OTUxMDA3NSUyNmRzX2VfcHJvZHVjdF9ncm91cF9pZCUzZDQ1ODAzNTkyODk1MTAwNzUlMjZkc19lX3Byb2R1Y3RfaWQlM2QxMDEzODE2LUNPUkwtMDYlMjZkc19lX3Byb2R1Y3RfY291bnRyeSUzZFVTJTI2ZHNfZV9wcm9kdWN0X2xhbmd1YWdlJTNkRU4lMjZkc19lX3Byb2R1Y3RfY2hhbm5lbCUzZE9ubGluZSUyNmRzX3VybF92JTNkMiUyNmRzX2Rlc3RfdXJsJTNkaHR0cHMlM2ElMmYlMmZ3d3cuc2FudWsuY29tJTJmcyUyZlNBTlVLLVVTJTJmd29tZW5zLWxhc3QtY2FsbC1zYWxlJTJmcGFpci1vLWRpY2UlMmYxOTI0MTAwNjQxOTkuaHRtbCUzZnNvdXJjZSUzZHNob3BwaW5nc2l0ZV9QTEFfMTkyNDEwMDY0MTk5JTI2a3BpZCUzZDEwMTM4MTYtQ09STC0wNiUyNnV0bV9zb3VyY2UlM2RiaW5nJTI2dXRtX21lZGl1bSUzZHBsYSUyNm1zY2xraWQlM2QzY2I5NWI2MjVlYzExZThmOTZlODA1YzM4YTNhNTMxYg&rlid=3cb95b625ec11e8f96e805c38a3a531b'},\n",
       " {'image': 'https://www.bing.com//th?id=OP.Rv19keL3MnWa%2fw474C474&w=256&h=256&o=5&pid=21.1',\n",
       "  'seller': 'Sanuk',\n",
       "  'price': '$55.00',\n",
       "  'item': \"Sanuk Women's Donna Hemp Eco-Friendly Vegan Slip-On Shoes In White, Size 5\",\n",
       "  'url': 'https://www.bing.com/aclick?ld=e87pPs9TAcjkXVUS2JUVFHCDVUCUwx6e-OMOqEwn_sLgOUdBN7oWD-TdohN6YynHWC7ewwCDq7x129IWvdvc8v_IvStWNoR7LY8NJ40rIYjNKyAokSzM6ONPA4WmS2QHh2iNQ7gy2yJeQP0xId08ZonP_cZ1U&u=aHR0cCUzYSUyZiUyZmNsaWNrc2VydmUuZGFydHNlYXJjaC5uZXQlMmZsaW5rJTJmY2xpY2slM2ZsaWQlM2Q5MjcwMDA0Njg4NDQyMTEwNiUyNmRzX3Nfa3dnaWQlM2Q1ODcwMDAwMzg5NzQ2NjU0OSUyNmRzX3NfaW52ZW50b3J5X2ZlZWRfaWQlM2Q5NzcwMDAwMDAwMjUyNTgwNCUyNiUyNmRzX2VfYWRpZCUzZDc2NzU5NzAxMTk4MzkwJTI2ZHNfZV90YXJnZXRfaWQlM2RwbGEtNDU4MDM1OTI4OTUxMDA3NSUyNmRzX2VfcHJvZHVjdF9ncm91cF9pZCUzZDQ1ODAzNTkyODk1MTAwNzUlMjZkc19lX3Byb2R1Y3RfaWQlM2QxMDk0NDQ5LVdDSE0tMDUlMjZkc19lX3Byb2R1Y3RfY291bnRyeSUzZFVTJTI2ZHNfZV9wcm9kdWN0X2xhbmd1YWdlJTNkRU4lMjZkc19lX3Byb2R1Y3RfY2hhbm5lbCUzZE9ubGluZSUyNmRzX3VybF92JTNkMiUyNmRzX2Rlc3RfdXJsJTNkaHR0cHMlM2ElMmYlMmZ3d3cuc2FudWsuY29tJTJmcyUyZlNBTlVLLVVTJTJmdmVnYW4tZm9vdHdlYXIlMmZkb25uYS1oZW1wJTJmMTkyNDEwMDY0OTg0Lmh0bWwlM2Zzb3VyY2UlM2RzaG9wcGluZ3NpdGVfUExBXzE5MjQxMDA2NDk4NCUyNmtwaWQlM2QxMDk0NDQ5LVdDSE0tMDUlMjZ1dG1fc291cmNlJTNkYmluZyUyNnV0bV9tZWRpdW0lM2RwbGElMjZtc2Nsa2lkJTNkMDZhMWUzNjVhODIyMTFjNTg2ZDFiZGM0N2NkOTYyMDU&rlid=06a1e365a82211c586d1bdc47cd96205'},\n",
       " {'image': 'https://www.bing.com//th?id=OP.%2bMJTkAU1BNd1DA474C474&w=256&h=256&o=5&pid=21.1',\n",
       "  'seller': 'Sanuk',\n",
       "  'price': '$36.00',\n",
       "  'item': \"Sanuk Kids' Vagabond Sidewalk Surfers Eco-Friendly Vegan Slip-On Shoes In Tan, Size 5\",\n",
       "  'url': 'https://www.bing.com/aclick?ld=e8aj9-rrF8Dm2hh01SlriiVDVUCUxVKziLNJI8xdGoLFIjY1pPioc3Z2ozpw_Jex_ZOg3gxDLXgthiqqATc03czgbK9UFhwK8qD--RLM0dD8OSyXNqHcHgHiG-1PdIUW8un_UYGeg8PrQhGs5X_puVqWzpB00&u=aHR0cCUzYSUyZiUyZmNsaWNrc2VydmUuZGFydHNlYXJjaC5uZXQlMmZsaW5rJTJmY2xpY2slM2ZsaWQlM2Q5MjcwMDA0Njg4NDQyMTEwNiUyNmRzX3Nfa3dnaWQlM2Q1ODcwMDAwMzg5NzQ2NjU0OSUyNmRzX3NfaW52ZW50b3J5X2ZlZWRfaWQlM2Q5NzcwMDAwMDAwMjUyNTgwNCUyNiUyNmRzX2VfYWRpZCUzZDc2NzU5NzAxMTk4MzkwJTI2ZHNfZV90YXJnZXRfaWQlM2RwbGEtNDU4MDM1OTI4OTUxMDA3NSUyNmRzX2VfcHJvZHVjdF9ncm91cF9pZCUzZDQ1ODAzNTkyODk1MTAwNzUlMjZkc19lX3Byb2R1Y3RfaWQlM2RTQkYxMDYxWS1LSEEtMDUlMjZkc19lX3Byb2R1Y3RfY291bnRyeSUzZFVTJTI2ZHNfZV9wcm9kdWN0X2xhbmd1YWdlJTNkRU4lMjZkc19lX3Byb2R1Y3RfY2hhbm5lbCUzZE9ubGluZSUyNmRzX3VybF92JTNkMiUyNmRzX2Rlc3RfdXJsJTNkaHR0cHMlM2ElMmYlMmZ3d3cuc2FudWsuY29tJTJmcyUyZlNBTlVLLVVTJTJma2lkcy1zaWRld2Fsay1zdXJmZXJzJTJmdmFnYWJvbmQlMmYxOTAxMDg3MDAzMjkuaHRtbCUzZnNvdXJjZSUzZHNob3BwaW5nc2l0ZV9QTEFfMTkwMTA4NzAwMzI5JTI2a3BpZCUzZFNCRjEwNjFZLUtIQS0wNSUyNnV0bV9zb3VyY2UlM2RiaW5nJTI2dXRtX21lZGl1bSUzZHBsYSUyNm1zY2xraWQlM2QzMzg3NzkzZGIzODUxNTU2YTlhNDI3OWM2NzdlYTkwYw&rlid=3387793db3851556a9a4279c677ea90c'},\n",
       " {'image': 'https://www.bing.com//th?id=OP.0gOqaz4BcYYTQA474C474&w=256&h=256&o=5&pid=21.1',\n",
       "  'seller': 'Sanuk',\n",
       "  'price': '$65.00',\n",
       "  'item': \"Sanuk Men's Chiba Sidewalk Surfers Eco-Friendly Vegan Slip-On Shoes In Black, Size 12\",\n",
       "  'url': 'https://www.bing.com/aclick?ld=e8SzvFJLOccC4Z9pDj1JlRoTVUCUxU6J4eoXKZaLxcbBy3TjW1FbXOj-DNpVNWMClH2-GWebCU7OvJgro-nMydGvVihNl2tdIyV8OQSNBmCbhVIZd3t1baZceXGLUaMLslzQImFoRjuJhP7X3RSti24wF2-Tw&u=aHR0cCUzYSUyZiUyZmNsaWNrc2VydmUuZGFydHNlYXJjaC5uZXQlMmZsaW5rJTJmY2xpY2slM2ZsaWQlM2Q5MjcwMDA0Njg4NDQyMDg4NyUyNmRzX3Nfa3dnaWQlM2Q1ODcwMDAwMzg5NzQ2NjU0OSUyNmRzX3NfaW52ZW50b3J5X2ZlZWRfaWQlM2Q5NzcwMDAwMDAwMjUyNTgwNCUyNiUyNmRzX2VfYWRpZCUzZDc2NzU5NzAxMTk4MzkwJTI2ZHNfZV90YXJnZXRfaWQlM2RwbGEtNDU4MDM1OTI4OTUxMDAwMiUyNmRzX2VfcHJvZHVjdF9ncm91cF9pZCUzZDQ1ODAzNTkyODk1MTAwMDIlMjZkc19lX3Byb2R1Y3RfaWQlM2RTTUYxMDQ3LUJMSy0xMiUyNmRzX2VfcHJvZHVjdF9jb3VudHJ5JTNkVVMlMjZkc19lX3Byb2R1Y3RfbGFuZ3VhZ2UlM2RFTiUyNmRzX2VfcHJvZHVjdF9jaGFubmVsJTNkT25saW5lJTI2ZHNfdXJsX3YlM2QyJTI2ZHNfZGVzdF91cmwlM2RodHRwcyUzYSUyZiUyZnd3dy5zYW51ay5jb20lMmZzJTJmU0FOVUstVVMlMmZtZW5zLXNpZGV3YWxrLXN1cmZlcnMlMmZjaGliYSUyZjY0MzM4ODA3MDMwNC5odG1sJTNmc291cmNlJTNkc2hvcHBpbmdzaXRlX1BMQV82NDMzODgwNzAzMDQlMjZrcGlkJTNkU01GMTA0Ny1CTEstMTIlMjZ1dG1fc291cmNlJTNkYmluZyUyNnV0bV9tZWRpdW0lM2RwbGElMjZtc2Nsa2lkJTNkZDMxYWQzNGRhYjhjMWM5MTQ4Y2U4ZGVjN2Y3N2ZlODE&rlid=d31ad34dab8c1c9148ce8dec7f77fe81'},\n",
       " {'image': 'https://www.bing.com//th?id=OP.GDDZtDbmTa%2fRdw474C474&w=256&h=256&o=5&pid=21.1',\n",
       "  'seller': 'Sanuk',\n",
       "  'price': '$36.00',\n",
       "  'item': \"Sanuk Kids' Vagabond Sidewalk Surfers Eco-Friendly Vegan Slip-On Shoes In Green, Size 1\",\n",
       "  'url': 'https://www.bing.com/aclick?ld=e8do_wLGAREh_yhprBM54wMDVUCUyQurCcu3057PvnJ3xMY1neQErlNmo2LOs0eNJE_xQNf7GbCYpr6WID6c2DKuhHjlWCa65cOAUhfD-8xSVJhdlJ3P7-8UH3nRBeZ7q_ewWmSrNoxnPSgZ1SQgWaXFiPlqc&u=aHR0cCUzYSUyZiUyZmNsaWNrc2VydmUuZGFydHNlYXJjaC5uZXQlMmZsaW5rJTJmY2xpY2slM2ZsaWQlM2Q5MjcwMDA0Njg4NDQyMTEwNiUyNmRzX3Nfa3dnaWQlM2Q1ODcwMDAwMzg5NzQ2NjU0OSUyNmRzX3NfaW52ZW50b3J5X2ZlZWRfaWQlM2Q5NzcwMDAwMDAwMjUyNTgwNCUyNiUyNmRzX2VfYWRpZCUzZDc2NzU5NzAxMTk4MzkwJTI2ZHNfZV90YXJnZXRfaWQlM2RwbGEtNDU4MDM1OTI4OTUxMDA3NSUyNmRzX2VfcHJvZHVjdF9ncm91cF9pZCUzZDQ1ODAzNTkyODk1MTAwNzUlMjZkc19lX3Byb2R1Y3RfaWQlM2RTQkYxMDYxWS1CUk4tMDElMjZkc19lX3Byb2R1Y3RfY291bnRyeSUzZFVTJTI2ZHNfZV9wcm9kdWN0X2xhbmd1YWdlJTNkRU4lMjZkc19lX3Byb2R1Y3RfY2hhbm5lbCUzZE9ubGluZSUyNmRzX3VybF92JTNkMiUyNmRzX2Rlc3RfdXJsJTNkaHR0cHMlM2ElMmYlMmZ3d3cuc2FudWsuY29tJTJmcyUyZlNBTlVLLVVTJTJma2lkcy1zaWRld2Fsay1zdXJmZXJzJTJmdmFnYWJvbmQlMmYxOTAxMDg3MDAxNjkuaHRtbCUzZnNvdXJjZSUzZHNob3BwaW5nc2l0ZV9QTEFfMTkwMTA4NzAwMTY5JTI2a3BpZCUzZFNCRjEwNjFZLUJSTi0wMSUyNnV0bV9zb3VyY2UlM2RiaW5nJTI2dXRtX21lZGl1bSUzZHBsYSUyNm1zY2xraWQlM2Q3NTRiZjI0YzE5YTAxYjk2YzJmMGFjZWRjZDViYjVjMA&rlid=754bf24c19a01b96c2f0acedcd5bb5c0'},\n",
       " {'image': 'https://www.bing.com//th?id=OP.b7vrGmODsAGYeQ474C474&w=256&h=256&o=5&pid=21.1',\n",
       "  'seller': 'Sanuk',\n",
       "  'price': '$50.00',\n",
       "  'item': \"Sanuk Women's Pair O Dice Slub Eco-Friendly Vegan Slip-On Shoes In Tan, Size 6\",\n",
       "  'url': 'https://www.bing.com/aclick?ld=e8OdZ3-eZbtsZjvBanum6iSzVUCUxQeDHEy_q77VcCjUN_b0-49Bv2Dl3YxzE07I8ljZ2kFl2z8nmvvRVJzWqpPB2dIyCyL2yEdZ1wRAuVIxSBmNYNdWgKbwl7V9cPmaHmhMy1b5KlqkIAranjsuPIHsXO48c&u=aHR0cCUzYSUyZiUyZmNsaWNrc2VydmUuZGFydHNlYXJjaC5uZXQlMmZsaW5rJTJmY2xpY2slM2ZsaWQlM2Q5MjcwMDA0Njg4NDQyMTEwNiUyNmRzX3Nfa3dnaWQlM2Q1ODcwMDAwMzg5NzQ2NjU0OSUyNmRzX3NfaW52ZW50b3J5X2ZlZWRfaWQlM2Q5NzcwMDAwMDAwMjUyNTgwNCUyNiUyNmRzX2VfYWRpZCUzZDc2NzU5NzAxMTk4MzkwJTI2ZHNfZV90YXJnZXRfaWQlM2RwbGEtNDU4MDM1OTI4OTUxMDA3NSUyNmRzX2VfcHJvZHVjdF9ncm91cF9pZCUzZDQ1ODAzNTkyODk1MTAwNzUlMjZkc19lX3Byb2R1Y3RfaWQlM2QxMTAwNjM5LUJJUi0wNiUyNmRzX2VfcHJvZHVjdF9jb3VudHJ5JTNkVVMlMjZkc19lX3Byb2R1Y3RfbGFuZ3VhZ2UlM2RFTiUyNmRzX2VfcHJvZHVjdF9jaGFubmVsJTNkT25saW5lJTI2ZHNfdXJsX3YlM2QyJTI2ZHNfZGVzdF91cmwlM2RodHRwcyUzYSUyZiUyZnd3dy5zYW51ay5jb20lMmZzJTJmU0FOVUstVVMlMmZ3b21lbnMtc2hvZXMlMmZwYWlyLW8tZGljZS1zbHViJTJmMTkyNDEwNjU1MzI4Lmh0bWwlM2Zzb3VyY2UlM2RzaG9wcGluZ3NpdGVfUExBXzE5MjQxMDY1NTMyOCUyNmtwaWQlM2QxMTAwNjM5LUJJUi0wNiUyNnV0bV9zb3VyY2UlM2RiaW5nJTI2dXRtX21lZGl1bSUzZHBsYSUyNm1zY2xraWQlM2RhNGUwNWU4NWNlYWIxOWMyM2FlNjAwMjQxYTUwODYwZQ&rlid=a4e05e85ceab19c23ae600241a50860e'}]"
      ]
     },
     "execution_count": 82,
     "metadata": {},
     "output_type": "execute_result"
    }
   ],
   "source": [
    "get_shop_data(links)"
   ]
  },
  {
   "cell_type": "code",
   "execution_count": null,
   "metadata": {},
   "outputs": [],
   "source": []
  }
 ],
 "metadata": {
  "kernelspec": {
   "display_name": "Python 3",
   "language": "python",
   "name": "python3"
  },
  "language_info": {
   "codemirror_mode": {
    "name": "ipython",
    "version": 3
   },
   "file_extension": ".py",
   "mimetype": "text/x-python",
   "name": "python",
   "nbconvert_exporter": "python",
   "pygments_lexer": "ipython3",
   "version": "3.7.4"
  }
 },
 "nbformat": 4,
 "nbformat_minor": 2
}
